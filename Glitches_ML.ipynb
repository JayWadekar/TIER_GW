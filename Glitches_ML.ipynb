{
 "cells": [
  {
   "cell_type": "markdown",
   "id": "06a4b36f",
   "metadata": {
    "jp-MarkdownHeadingCollapsed": true,
    "papermill": {
     "duration": 0.003413,
     "end_time": "2025-07-13T06:30:14.595339",
     "exception": false,
     "start_time": "2025-07-13T06:30:14.591926",
     "status": "completed"
    },
    "tags": []
   },
   "source": [
    "# Loading summary statistics of surrounding data"
   ]
  },
  {
   "cell_type": "code",
   "execution_count": 1,
   "id": "45aa94e0",
   "metadata": {
    "execution": {
     "iopub.execute_input": "2025-07-13T06:30:12.486429Z",
     "iopub.status.busy": "2025-07-13T06:30:12.486186Z",
     "iopub.status.idle": "2025-07-13T06:30:13.714323Z",
     "shell.execute_reply": "2025-07-13T06:30:13.713878Z"
    },
    "papermill": {
     "duration": 1.245617,
     "end_time": "2025-07-13T06:30:13.715356",
     "exception": false,
     "start_time": "2025-07-13T06:30:12.469739",
     "status": "completed"
    },
    "tags": []
   },
   "outputs": [],
   "source": [
    "# Loading the necessary libraries\n",
    "import os\n",
    "\n",
    "os.environ[\"MKL_NUM_THREADS\"] = \"1\"\n",
    "os.environ[\"OMP_NUM_THREADS\"] = \"1\"\n",
    "\n",
    "import numpy as np\n",
    "import matplotlib.pyplot as plt\n",
    "import pickle\n",
    "from sklearn.ensemble import RandomForestClassifier"
   ]
  },
  {
   "cell_type": "code",
   "execution_count": null,
   "id": "f6a29ed3",
   "metadata": {
    "execution": {
     "iopub.execute_input": "2025-07-13T06:30:13.724206Z",
     "iopub.status.busy": "2025-07-13T06:30:13.723889Z",
     "iopub.status.idle": "2025-07-13T06:30:13.727221Z",
     "shell.execute_reply": "2025-07-13T06:30:13.726777Z"
    },
    "papermill": {
     "duration": 0.008267,
     "end_time": "2025-07-13T06:30:13.727982",
     "exception": false,
     "start_time": "2025-07-13T06:30:13.719715",
     "status": "completed"
    },
    "tags": []
   },
   "outputs": [],
   "source": [
    "# Select Bank\n",
    "ib = 9"
   ]
  },
  {
   "cell_type": "code",
   "execution_count": null,
   "id": "b4326af3",
   "metadata": {
    "execution": {
     "iopub.execute_input": "2025-07-13T06:30:13.738223Z",
     "iopub.status.busy": "2025-07-13T06:30:13.738024Z",
     "iopub.status.idle": "2025-07-13T06:30:13.741272Z",
     "shell.execute_reply": "2025-07-13T06:30:13.740864Z"
    },
    "papermill": {
     "duration": 0.012143,
     "end_time": "2025-07-13T06:30:13.743781",
     "exception": false,
     "start_time": "2025-07-13T06:30:13.731638",
     "status": "completed"
    },
    "tags": []
   },
   "outputs": [],
   "source": [
    "# Change to your directory which has the data files\n",
    "dire = \"/Users/jayw/Downloads/\""
   ]
  },
  {
   "cell_type": "code",
   "execution_count": 4,
   "id": "4ef314e0",
   "metadata": {
    "execution": {
     "iopub.execute_input": "2025-07-13T06:30:13.754271Z",
     "iopub.status.busy": "2025-07-13T06:30:13.754069Z",
     "iopub.status.idle": "2025-07-13T06:30:14.216408Z",
     "shell.execute_reply": "2025-07-13T06:30:14.215967Z"
    },
    "papermill": {
     "duration": 0.468455,
     "end_time": "2025-07-13T06:30:14.217437",
     "exception": false,
     "start_time": "2025-07-13T06:30:13.748982",
     "status": "completed"
    },
    "tags": []
   },
   "outputs": [],
   "source": [
    "# Load Candidate and Injection Data \n",
    "\n",
    "with open(data_dir + f'/Cands_bank_{ib}.pkl', 'rb') as f:\n",
    "    sum_stats_dets = pickle.load(f)\n",
    "\n",
    "with open(data_dir + f'/inds_sorted_{ib}.pkl', 'rb') as f:\n",
    "    inds_sorted = pickle.load(f)\n",
    "\n",
    "with open(data_dir + f'/Times_cands_{ib}.pkl', 'rb') as f:\n",
    "    times_cands_dets = pickle.load(f)\n",
    "\n",
    "t_inj_raw = np.load(data_dir + f'/Inj_times_O3b.npy') # Load raw injection times (randomly drawn between start and end of the run)"
   ]
  },
  {
   "cell_type": "code",
   "execution_count": 5,
   "id": "c8e86da4",
   "metadata": {
    "execution": {
     "iopub.execute_input": "2025-07-13T06:30:14.229302Z",
     "iopub.status.busy": "2025-07-13T06:30:14.229028Z",
     "iopub.status.idle": "2025-07-13T06:30:14.568942Z",
     "shell.execute_reply": "2025-07-13T06:30:14.568441Z"
    },
    "papermill": {
     "duration": 0.348764,
     "end_time": "2025-07-13T06:30:14.569889",
     "exception": false,
     "start_time": "2025-07-13T06:30:14.221125",
     "status": "completed"
    },
    "tags": []
   },
   "outputs": [
    {
     "name": "stdout",
     "output_type": "stream",
     "text": [
      "Number of coincident injections: 31806\n"
     ]
    }
   ],
   "source": [
    "# === Identify Coincident Injections ===\n",
    "\n",
    "coincident_injs = []\n",
    "total_rank_obj_cands = len(np.concatenate(inds_sorted))\n",
    "\n",
    "for i in range(len(sum_stats_dets[0])):\n",
    "    stats_H, stats_L = sum_stats_dets[0][i], sum_stats_dets[1][i]\n",
    "    if stats_H is not None and stats_L is not None:\n",
    "        if i < total_rank_obj_cands:\n",
    "            coincident_injs.append(i)\n",
    "        elif (\n",
    "            np.all(np.array([stats_H[1], stats_L[1]]) > 0) and\n",
    "            np.all(np.array([stats_H[3], stats_L[3]]) > 0.5)\n",
    "        ):\n",
    "            coincident_injs.append(i)\n",
    "    elif i < total_rank_obj_cands:\n",
    "        print(f\"Missing stats at index {i}\")\n",
    "        raise RuntimeError(\"Unexpected None entry in ranked candidate stats\")\n",
    "\n",
    "# Append extra injections (beyond ranking) to inds_sorted\n",
    "extra_inds = np.array(coincident_injs[total_rank_obj_cands:]) - total_rank_obj_cands\n",
    "inds_sorted.append(extra_inds)\n",
    "print(f\"Number of coincident injections: {len(extra_inds)}\")"
   ]
  },
  {
   "cell_type": "code",
   "execution_count": 6,
   "id": "3deb18e6",
   "metadata": {
    "execution": {
     "iopub.execute_input": "2025-07-13T06:30:14.578254Z",
     "iopub.status.busy": "2025-07-13T06:30:14.577997Z",
     "iopub.status.idle": "2025-07-13T06:30:14.587334Z",
     "shell.execute_reply": "2025-07-13T06:30:14.586960Z"
    },
    "papermill": {
     "duration": 0.014522,
     "end_time": "2025-07-13T06:30:14.588264",
     "exception": false,
     "start_time": "2025-07-13T06:30:14.573742",
     "status": "completed"
    },
    "tags": []
   },
   "outputs": [],
   "source": [
    "# === Append Times for Extra Injections ===\n",
    "\n",
    "t_extra_inj = t_inj_raw[inds_sorted[-1]]\n",
    "times_cands_dets[0].append(t_extra_inj)\n",
    "times_cands_dets[1].append(t_extra_inj)"
   ]
  },
  {
   "cell_type": "code",
   "execution_count": 7,
   "id": "b12089cb",
   "metadata": {
    "execution": {
     "iopub.execute_input": "2025-07-13T06:30:14.609634Z",
     "iopub.status.busy": "2025-07-13T06:30:14.609357Z",
     "iopub.status.idle": "2025-07-13T06:30:14.640750Z",
     "shell.execute_reply": "2025-07-13T06:30:14.640308Z"
    },
    "papermill": {
     "duration": 0.048228,
     "end_time": "2025-07-13T06:30:14.647041",
     "exception": false,
     "start_time": "2025-07-13T06:30:14.598813",
     "status": "completed"
    },
    "tags": []
   },
   "outputs": [],
   "source": [
    "sum_stats_dets = [\n",
    "    [sum_stats_dets[ifo][i] for i in coincident_injs]\n",
    "    for ifo in range(2)\n",
    "]\n"
   ]
  },
  {
   "cell_type": "code",
   "execution_count": 8,
   "id": "df374370",
   "metadata": {
    "execution": {
     "iopub.execute_input": "2025-07-13T06:30:14.655195Z",
     "iopub.status.busy": "2025-07-13T06:30:14.654922Z",
     "iopub.status.idle": "2025-07-13T06:30:14.659002Z",
     "shell.execute_reply": "2025-07-13T06:30:14.658558Z"
    },
    "papermill": {
     "duration": 0.01346,
     "end_time": "2025-07-13T06:30:14.664167",
     "exception": false,
     "start_time": "2025-07-13T06:30:14.650707",
     "status": "completed"
    },
    "tags": []
   },
   "outputs": [
    {
     "name": "stdout",
     "output_type": "stream",
     "text": [
      "triglist_dim is 5\n"
     ]
    }
   ],
   "source": [
    "# === Determine Trigger List Dimension ===\n",
    "\n",
    "for sample in sum_stats_dets[0]:\n",
    "    if sample[4] is not None:\n",
    "        triglist_dim = sample[4].shape[-1]\n",
    "        break\n",
    "\n",
    "print(\"triglist_dim is\", triglist_dim)\n"
   ]
  },
  {
   "cell_type": "code",
   "execution_count": 9,
   "id": "4cd2aa5b",
   "metadata": {
    "execution": {
     "iopub.execute_input": "2025-07-13T06:30:14.672266Z",
     "iopub.status.busy": "2025-07-13T06:30:14.672031Z",
     "iopub.status.idle": "2025-07-13T06:30:14.676110Z",
     "shell.execute_reply": "2025-07-13T06:30:14.675690Z"
    },
    "papermill": {
     "duration": 0.008966,
     "end_time": "2025-07-13T06:30:14.676854",
     "exception": false,
     "start_time": "2025-07-13T06:30:14.667888",
     "status": "completed"
    },
    "tags": []
   },
   "outputs": [],
   "source": [
    "# === Helper Function: Pad Trigger Lists for uniform length ===\n",
    "\n",
    "def triglist_pad_fn(triglist, length=3, triglist_dim=4):\n",
    "    \"\"\"Pads trigger lists to a uniform length, sorted by descending SNR (column 1).\"\"\"\n",
    "    triglist_pad = []\n",
    "    n_elements = []\n",
    "    for t in triglist:\n",
    "        if t is not None:\n",
    "            n_elements.append(len(t))\n",
    "            top_t = t[np.argsort(t[:, 1])[::-1][:length]]  # top by SNR\n",
    "            if len(top_t) < length:\n",
    "                top_t = np.vstack([top_t, np.zeros((length - len(top_t), triglist_dim))])\n",
    "            triglist_pad.append(top_t)\n",
    "        else:\n",
    "            n_elements.append(0)\n",
    "            triglist_pad.append(np.zeros((length, triglist_dim)))\n",
    "    return np.array(n_elements), np.array(triglist_pad)\n"
   ]
  },
  {
   "cell_type": "code",
   "execution_count": 10,
   "id": "0e5ff1fa",
   "metadata": {
    "execution": {
     "iopub.execute_input": "2025-07-13T06:30:14.685086Z",
     "iopub.status.busy": "2025-07-13T06:30:14.684740Z",
     "iopub.status.idle": "2025-07-13T06:30:16.032443Z",
     "shell.execute_reply": "2025-07-13T06:30:16.029348Z"
    },
    "papermill": {
     "duration": 1.35322,
     "end_time": "2025-07-13T06:30:16.033800",
     "exception": false,
     "start_time": "2025-07-13T06:30:14.680580",
     "status": "completed"
    },
    "tags": []
   },
   "outputs": [
    {
     "name": "stdout",
     "output_type": "stream",
     "text": [
      "For i_cand 0: 22 entries with t_closest_hole <= -1\n",
      "For i_cand 1: 1 entries with t_closest_hole <= -1\n",
      "For i_cand 3: 1 entries with t_closest_hole <= -1\n",
      "For i_cand 4: 2 entries with t_closest_hole <= -1\n"
     ]
    }
   ],
   "source": [
    "# === Process All Candidate Sets ===\n",
    "\n",
    "be_mask, t_closest_hole, normfac, pdrift = [], [], [], []\n",
    "n_trig, triglist_H, triglist_L, triglist_pad = [], [], [], []\n",
    "\n",
    "pad_length = 3\n",
    "index = 0  # global index over sum_stats_dets\n",
    "\n",
    "for i_cand in range(6):\n",
    "    # Initialize containers for this candidate set\n",
    "    be_mask_cand, t_closest_cand = [], []\n",
    "    normfac_cand, pdrift_cand = [], []\n",
    "    triglist_H_cand, triglist_L_cand = [], []\n",
    "\n",
    "    if len(inds_sorted[i_cand]) > 0:\n",
    "        for _ in range(len(inds_sorted[i_cand])):\n",
    "            stats_H, stats_L = sum_stats_dets[0][index], sum_stats_dets[1][index]\n",
    "            be_mask_cand.append([stats_H[0], stats_L[0]])\n",
    "            t_closest_cand.append([stats_H[1], stats_L[1]])\n",
    "            normfac_cand.append([stats_H[2], stats_L[2]])\n",
    "            pdrift_cand.append([stats_H[3], stats_L[3]])\n",
    "            triglist_H_cand.append(stats_H[4])\n",
    "            triglist_L_cand.append(stats_L[4])\n",
    "            index += 1\n",
    "\n",
    "        # Convert to arrays\n",
    "        be_mask_cand = np.array(be_mask_cand)\n",
    "        t_closest_cand = np.array(t_closest_cand)\n",
    "        normfac_cand = np.array(normfac_cand)\n",
    "        pdrift_cand = np.array(pdrift_cand)\n",
    "\n",
    "        # Clip values for safety\n",
    "        if np.any(t_closest_cand <= -1):\n",
    "            count = np.sum(t_closest_cand <= -1)\n",
    "            print(f'For i_cand {i_cand}: {count} entries with t_closest_hole <= -1')\n",
    "            t_closest_cand[t_closest_cand <= -1] = -1\n",
    "\n",
    "        if np.any(pdrift_cand <= 0.4):\n",
    "            count = np.sum(pdrift_cand <= 0.4)\n",
    "            print(f'For i_cand {i_cand}: {count} entries with pdrift <= 0.4')\n",
    "            pdrift_cand[pdrift_cand <= 0.4] = 0.4\n",
    "\n",
    "        # Pad trigger lists\n",
    "        n_trig_cand = np.zeros((2, len(be_mask_cand)))\n",
    "        triglist_cand = np.zeros((2, len(be_mask_cand), pad_length, triglist_dim))\n",
    "        n_trig_cand[0], triglist_cand[0] = triglist_pad_fn(triglist_H_cand, pad_length, triglist_dim)\n",
    "        n_trig_cand[1], triglist_cand[1] = triglist_pad_fn(triglist_L_cand, pad_length, triglist_dim)\n",
    "    else:\n",
    "        # Empty candidate list\n",
    "        n_trig_cand = []\n",
    "        triglist_cand = []\n",
    "\n",
    "    # Append to global lists\n",
    "    be_mask.append(be_mask_cand)\n",
    "    t_closest_hole.append(t_closest_cand)\n",
    "    normfac.append(normfac_cand)\n",
    "    pdrift.append(pdrift_cand)\n",
    "    n_trig.append(n_trig_cand)\n",
    "    triglist_H.append(triglist_H_cand)\n",
    "    triglist_L.append(triglist_L_cand)\n",
    "    triglist_pad.append(triglist_cand)\n"
   ]
  },
  {
   "cell_type": "code",
   "execution_count": 11,
   "id": "826c4ffb",
   "metadata": {
    "execution": {
     "iopub.execute_input": "2025-07-13T06:30:16.065480Z",
     "iopub.status.busy": "2025-07-13T06:30:16.065235Z",
     "iopub.status.idle": "2025-07-13T06:30:16.072810Z",
     "shell.execute_reply": "2025-07-13T06:30:16.072334Z"
    },
    "papermill": {
     "duration": 0.032335,
     "end_time": "2025-07-13T06:30:16.073883",
     "exception": false,
     "start_time": "2025-07-13T06:30:16.041548",
     "status": "completed"
    },
    "tags": []
   },
   "outputs": [
    {
     "name": "stdout",
     "output_type": "stream",
     "text": [
      "Number of Candidates : 20000\n",
      "Number of Glitches : 31806\n"
     ]
    }
   ],
   "source": [
    "print(f\"Number of Candidates : {len(be_mask[0])}\")\n",
    "print(f\"Number of Glitches : {len(be_mask[-1])}\")"
   ]
  },
  {
   "cell_type": "markdown",
   "id": "9433ef87",
   "metadata": {
    "jp-MarkdownHeadingCollapsed": true,
    "papermill": {
     "duration": 0.005223,
     "end_time": "2025-07-13T06:30:16.086543",
     "exception": false,
     "start_time": "2025-07-13T06:30:16.081320",
     "status": "completed"
    },
    "tags": []
   },
   "source": [
    "### Training RF with only nonlocal info"
   ]
  },
  {
   "cell_type": "code",
   "execution_count": 12,
   "id": "59f1a63f",
   "metadata": {
    "execution": {
     "iopub.execute_input": "2025-07-13T06:30:16.102434Z",
     "iopub.status.busy": "2025-07-13T06:30:16.102202Z",
     "iopub.status.idle": "2025-07-13T06:30:16.133242Z",
     "shell.execute_reply": "2025-07-13T06:30:16.132656Z"
    },
    "papermill": {
     "duration": 0.040053,
     "end_time": "2025-07-13T06:30:16.134596",
     "exception": false,
     "start_time": "2025-07-13T06:30:16.094543",
     "status": "completed"
    },
    "tags": []
   },
   "outputs": [],
   "source": [
    "# === Construct Feature Inputs for Each Detector (H1 = 0, L1 = 1) ===\n",
    "\n",
    "inputs_cands_dets = []\n",
    "for ind_det in range(2):\n",
    "    inputs_cands = []\n",
    "    for cand_type in range(6):\n",
    "        if len(be_mask[cand_type]) == 0:\n",
    "            inputs_cand = []\n",
    "        else:\n",
    "            inputs_cand = np.c_[\n",
    "                be_mask[cand_type][:, ind_det].astype(float),\n",
    "                t_closest_hole[cand_type][:, ind_det].astype(float),\n",
    "                normfac[cand_type][:, ind_det].astype(float),\n",
    "                pdrift[cand_type][:, ind_det].astype(float),\n",
    "                n_trig[cand_type][ind_det].astype(float),\n",
    "                triglist_pad[cand_type][ind_det].reshape(-1, pad_length * triglist_dim).astype(float)\n",
    "            ]\n",
    "        inputs_cands.append(inputs_cand)\n",
    "    inputs_cands_dets.append(inputs_cands)"
   ]
  },
  {
   "cell_type": "code",
   "execution_count": 13,
   "id": "20e3ef97",
   "metadata": {
    "execution": {
     "iopub.execute_input": "2025-07-13T06:30:16.150412Z",
     "iopub.status.busy": "2025-07-13T06:30:16.149892Z",
     "iopub.status.idle": "2025-07-13T06:30:16.165574Z",
     "shell.execute_reply": "2025-07-13T06:30:16.157295Z"
    },
    "papermill": {
     "duration": 0.027978,
     "end_time": "2025-07-13T06:30:16.166641",
     "exception": false,
     "start_time": "2025-07-13T06:30:16.138663",
     "status": "completed"
    },
    "tags": []
   },
   "outputs": [],
   "source": [
    "# === Create Train/Test Split Indices and avoiding \"double counting\" of nearby times ===\n",
    "\n",
    "train_iters = 4\n",
    "train_test_inds_cands = []\n",
    "\n",
    "for i_det in range(2):\n",
    "    train_test_ind = []\n",
    "    for i_cand in range(6):\n",
    "        times = times_cands_dets[i_det][i_cand]\n",
    "        if len(times) == 0:\n",
    "            train_test_ind.append([])\n",
    "        else:\n",
    "            train_test_ind.append((times // 400 % train_iters).astype(int))\n",
    "    train_test_inds_cands.append(train_test_ind)"
   ]
  },
  {
   "cell_type": "code",
   "execution_count": 14,
   "id": "dd54bb6a",
   "metadata": {
    "execution": {
     "iopub.execute_input": "2025-07-13T06:30:16.175610Z",
     "iopub.status.busy": "2025-07-13T06:30:16.175390Z",
     "iopub.status.idle": "2025-07-13T06:30:16.185105Z",
     "shell.execute_reply": "2025-07-13T06:30:16.184718Z"
    },
    "papermill": {
     "duration": 0.015278,
     "end_time": "2025-07-13T06:30:16.185998",
     "exception": false,
     "start_time": "2025-07-13T06:30:16.170720",
     "status": "completed"
    },
    "tags": []
   },
   "outputs": [],
   "source": [
    "# === Prepare Input Data for ML (Used in Both Detectors) ===\n",
    "\n",
    "def input_data_ML(ind_det=0):\n",
    "    inputs_train = np.r_[\n",
    "        inputs_cands_dets[ind_det][0],  # background\n",
    "        inputs_cands_dets[ind_det][-1]  # injections\n",
    "    ]\n",
    "    labels = np.concatenate([\n",
    "        np.zeros(len(be_mask[0])),      # background = 0\n",
    "        np.ones(len(be_mask[-1]))       # injections = 1\n",
    "    ])\n",
    "    weights = np.ones_like(labels)\n",
    "    weights[labels > 0] *= (np.count_nonzero(labels == 0) / np.count_nonzero(labels == 1))\n",
    "\n",
    "    train_test_inds = np.r_[\n",
    "        train_test_inds_cands[ind_det][0],\n",
    "        train_test_inds_cands[ind_det][-1]\n",
    "    ]\n",
    "    return inputs_train, labels, weights, train_test_inds\n"
   ]
  },
  {
   "cell_type": "code",
   "execution_count": 15,
   "id": "a1148dab",
   "metadata": {
    "execution": {
     "iopub.execute_input": "2025-07-13T06:30:16.213235Z",
     "iopub.status.busy": "2025-07-13T06:30:16.213007Z",
     "iopub.status.idle": "2025-07-13T06:30:16.223780Z",
     "shell.execute_reply": "2025-07-13T06:30:16.223286Z"
    },
    "papermill": {
     "duration": 0.034873,
     "end_time": "2025-07-13T06:30:16.224835",
     "exception": false,
     "start_time": "2025-07-13T06:30:16.189962",
     "status": "completed"
    },
    "tags": []
   },
   "outputs": [],
   "source": [
    "# === Train Random Forest and Evaluate Log-Probabilities ===\n",
    "\n",
    "i_test = 0  # fold index for cross-validation\n",
    "\n",
    "def log_prob_det(ind_det):\n",
    "    inputs_train, labels, weights, train_test_inds = input_data_ML(ind_det)\n",
    "\n",
    "    rf = RandomForestClassifier(\n",
    "        n_estimators=200,\n",
    "        max_depth=100,\n",
    "        criterion='gini',\n",
    "        random_state=42,\n",
    "        n_jobs=5\n",
    "    )\n",
    "    # Train on training set only\n",
    "    rf.fit(\n",
    "        inputs_train[train_test_inds != i_test],\n",
    "        labels[train_test_inds != i_test],\n",
    "        sample_weight=weights[train_test_inds != i_test]\n",
    "    )\n",
    "\n",
    "    # Predict log-probabilities on the held-out fold\n",
    "    probs_valid = 2 * np.log(rf.predict_proba(inputs_train[train_test_inds == i_test])[:, 1])\n",
    "    probs_valid = np.nan_to_num(probs_valid, neginf=-10)\n",
    "\n",
    "    return probs_valid, labels[train_test_inds == i_test], rf.feature_importances_"
   ]
  },
  {
   "cell_type": "code",
   "execution_count": 16,
   "id": "9cb92708",
   "metadata": {
    "execution": {
     "iopub.execute_input": "2025-07-13T06:30:16.240013Z",
     "iopub.status.busy": "2025-07-13T06:30:16.239798Z",
     "iopub.status.idle": "2025-07-13T06:30:56.900739Z",
     "shell.execute_reply": "2025-07-13T06:30:56.900229Z"
    },
    "papermill": {
     "duration": 40.670953,
     "end_time": "2025-07-13T06:30:56.905571",
     "exception": false,
     "start_time": "2025-07-13T06:30:16.234618",
     "status": "completed"
    },
    "tags": []
   },
   "outputs": [
    {
     "data": {
      "image/png": "[encoded data removed]",
      "text/plain": [
       "<Figure size 1200x300 with 2 Axes>"
      ]
     },
     "metadata": {},
     "output_type": "display_data"
    }
   ],
   "source": [
    "# === Plot Log-Probability Histograms for H1 and L1 ===\n",
    "\n",
    "plt.figure(figsize=(12, 3))\n",
    "log_scale = True\n",
    "\n",
    "for i_det, det_name in zip([0, 1], ['H1', 'L1']):\n",
    "    plt.subplot(1, 2, i_det + 1)\n",
    "\n",
    "    probs_RF, labels, feat_importance = log_prob_det(i_det)\n",
    "    bins = np.histogram(probs_RF, bins=50)[1]\n",
    "\n",
    "    mask_inj = labels.astype(bool)\n",
    "\n",
    "    plt.hist(probs_RF[~mask_inj], bins=bins, label='Bkg', density=True, log=log_scale)\n",
    "    plt.hist(probs_RF[mask_inj], bins=bins, label='Inj', density=True, alpha=0.5, log=log_scale)\n",
    "\n",
    "    plt.title(det_name)\n",
    "    plt.xlabel('2 × log(predicted probability of injection)')\n",
    "    plt.ylabel('N (normalized)')\n",
    "    plt.legend()\n",
    "\n",
    "plt.tight_layout()\n",
    "plt.show()"
   ]
  },
  {
   "cell_type": "markdown",
   "id": "60ba0480",
   "metadata": {
    "jp-MarkdownHeadingCollapsed": true,
    "papermill": {
     "duration": 0.004017,
     "end_time": "2025-07-13T06:30:56.913803",
     "exception": false,
     "start_time": "2025-07-13T06:30:56.909786",
     "status": "completed"
    },
    "tags": []
   },
   "source": [
    "### Training a simple MLP to see if I can replicate RF results"
   ]
  },
  {
   "cell_type": "code",
   "execution_count": 17,
   "id": "d0ff8a52",
   "metadata": {
    "execution": {
     "iopub.execute_input": "2025-07-13T06:30:56.922800Z",
     "iopub.status.busy": "2025-07-13T06:30:56.922472Z",
     "iopub.status.idle": "2025-07-13T06:30:58.441732Z",
     "shell.execute_reply": "2025-07-13T06:30:58.441166Z"
    },
    "papermill": {
     "duration": 1.530377,
     "end_time": "2025-07-13T06:30:58.448128",
     "exception": false,
     "start_time": "2025-07-13T06:30:56.917751",
     "status": "completed"
    },
    "tags": []
   },
   "outputs": [],
   "source": [
    "import torch\n",
    "import torch.nn as nn\n",
    "import torch.optim as optim\n",
    "import numpy as np\n",
    "import matplotlib.pyplot as plt\n",
    "import time\n"
   ]
  },
  {
   "cell_type": "code",
   "execution_count": 18,
   "id": "c11c1c90",
   "metadata": {
    "execution": {
     "iopub.execute_input": "2025-07-13T06:30:58.457457Z",
     "iopub.status.busy": "2025-07-13T06:30:58.457173Z",
     "iopub.status.idle": "2025-07-13T06:30:58.536284Z",
     "shell.execute_reply": "2025-07-13T06:30:58.530801Z"
    },
    "papermill": {
     "duration": 0.084828,
     "end_time": "2025-07-13T06:30:58.537319",
     "exception": false,
     "start_time": "2025-07-13T06:30:58.452491",
     "status": "completed"
    },
    "tags": []
   },
   "outputs": [
    {
     "name": "stdout",
     "output_type": "stream",
     "text": [
      "NVIDIA A100-PCIE-40GB\n"
     ]
    }
   ],
   "source": [
    "\n",
    "# Device setup\n",
    "device = 'cuda' if torch.cuda.is_available() else 'cpu'\n",
    "print(torch.cuda.get_device_name(0) if device == 'cuda' else 'Using CPU')\n"
   ]
  },
  {
   "cell_type": "code",
   "execution_count": 19,
   "id": "d2c57b40",
   "metadata": {
    "execution": {
     "iopub.execute_input": "2025-07-13T06:30:58.548748Z",
     "iopub.status.busy": "2025-07-13T06:30:58.548472Z",
     "iopub.status.idle": "2025-07-13T06:30:58.552130Z",
     "shell.execute_reply": "2025-07-13T06:30:58.551762Z"
    },
    "papermill": {
     "duration": 0.011365,
     "end_time": "2025-07-13T06:30:58.552895",
     "exception": false,
     "start_time": "2025-07-13T06:30:58.541530",
     "status": "completed"
    },
    "tags": []
   },
   "outputs": [],
   "source": [
    "\n",
    "# Function to build MLP\n",
    "def build_mlp(input_dim, hidden_dim, output_dim, layers, activation=nn.ReLU()):\n",
    "    seq = [nn.Linear(input_dim, hidden_dim), activation]\n",
    "    for _ in range(layers):\n",
    "        seq += [nn.Linear(hidden_dim, hidden_dim), activation]\n",
    "    seq += [nn.Linear(hidden_dim, output_dim)]\n",
    "    return nn.Sequential(*seq)\n"
   ]
  },
  {
   "cell_type": "code",
   "execution_count": 20,
   "id": "efdeb4ea",
   "metadata": {
    "execution": {
     "iopub.execute_input": "2025-07-13T06:30:58.562166Z",
     "iopub.status.busy": "2025-07-13T06:30:58.561918Z",
     "iopub.status.idle": "2025-07-13T06:30:58.570730Z",
     "shell.execute_reply": "2025-07-13T06:30:58.570298Z"
    },
    "papermill": {
     "duration": 0.015633,
     "end_time": "2025-07-13T06:30:58.572845",
     "exception": false,
     "start_time": "2025-07-13T06:30:58.557212",
     "status": "completed"
    },
    "tags": []
   },
   "outputs": [],
   "source": [
    "features = np.r_[inputs_cands_dets[i_det][0], inputs_cands_dets[i_det][-1]]\n",
    "labels = np.concatenate((np.zeros(len(be_mask[0])), np.ones(len(be_mask[-1]))))\n",
    "weights = np.ones_like(labels)\n",
    "weights[labels>0] *= np.count_nonzero(labels==0)/np.count_nonzero(labels>0)\n",
    "\n",
    "features = torch.FloatTensor(features).to(device)\n",
    "labels = torch.FloatTensor(labels).to(device)\n",
    "weights = torch.FloatTensor(weights).to(device)"
   ]
  },
  {
   "cell_type": "code",
   "execution_count": 22,
   "id": "7a052d67",
   "metadata": {
    "execution": {
     "iopub.execute_input": "2025-07-13T06:30:58.586029Z",
     "iopub.status.busy": "2025-07-13T06:30:58.585751Z",
     "iopub.status.idle": "2025-07-13T06:30:58.782185Z",
     "shell.execute_reply": "2025-07-13T06:30:58.781765Z"
    },
    "papermill": {
     "duration": 0.205841,
     "end_time": "2025-07-13T06:30:58.783278",
     "exception": false,
     "start_time": "2025-07-13T06:30:58.577437",
     "status": "completed"
    },
    "tags": []
   },
   "outputs": [],
   "source": [
    "\n",
    "# Move to tensors (avoid double conversion)\n",
    "def to_tensor_on_device(x, device):\n",
    "    if isinstance(x, torch.Tensor):\n",
    "        return x.to(device)\n",
    "    return torch.as_tensor(x, dtype=torch.float32, device=device)\n",
    "\n",
    "features = to_tensor_on_device(features, device)\n",
    "labels = to_tensor_on_device(labels, device)\n",
    "weights = to_tensor_on_device(weights, device)\n",
    "\n",
    "# Focal Loss implementation (gamma=0 means BCE)\n",
    "class FocalLoss(nn.Module):\n",
    "    def __init__(self, gamma=2.0, reduction='mean'):\n",
    "        super().__init__()\n",
    "        self.gamma = gamma\n",
    "        self.reduction = reduction\n",
    "        self.bce = nn.BCEWithLogitsLoss(reduction='none')\n",
    "\n",
    "    def forward(self, logits, labels):\n",
    "        bce_loss = self.bce(logits, labels)\n",
    "        probs = torch.sigmoid(logits)\n",
    "        pt = probs * labels + (1 - probs) * (1 - labels)\n",
    "        focal_factor = (1 - pt) ** self.gamma\n",
    "        return focal_factor * bce_loss  # No reduction\n"
   ]
  },
  {
   "cell_type": "code",
   "execution_count": 23,
   "id": "918da905",
   "metadata": {
    "execution": {
     "iopub.execute_input": "2025-07-13T06:30:58.792912Z",
     "iopub.status.busy": "2025-07-13T06:30:58.792642Z",
     "iopub.status.idle": "2025-07-13T06:30:58.796294Z",
     "shell.execute_reply": "2025-07-13T06:30:58.795847Z"
    },
    "papermill": {
     "duration": 0.009285,
     "end_time": "2025-07-13T06:30:58.797041",
     "exception": false,
     "start_time": "2025-07-13T06:30:58.787756",
     "status": "completed"
    },
    "tags": []
   },
   "outputs": [],
   "source": [
    "\n",
    "# NRE definition\n",
    "class NeuralRatioEstimator(nn.Module):\n",
    "    def __init__(self, in_dim=20, layers=8):\n",
    "        super().__init__()\n",
    "        self.classifier = build_mlp(in_dim, hidden_dim=16, output_dim=1, layers=layers)\n",
    "        self.loss_fn = FocalLoss(gamma=0.0)  # Set gamma > 0 for focal loss\n",
    "\n",
    "    def forward(self, x):\n",
    "        return self.classifier(x)\n",
    "    \n",
    "    def loss(self, x, labels, weights):\n",
    "        logits = self(x).squeeze()\n",
    "        return (self.loss_fn(logits, labels) * weights).mean()\n"
   ]
  },
  {
   "cell_type": "code",
   "execution_count": 24,
   "id": "6a1e5a87",
   "metadata": {
    "execution": {
     "iopub.execute_input": "2025-07-13T06:30:58.808280Z",
     "iopub.status.busy": "2025-07-13T06:30:58.808023Z",
     "iopub.status.idle": "2025-07-13T06:31:00.146273Z",
     "shell.execute_reply": "2025-07-13T06:31:00.145830Z"
    },
    "papermill": {
     "duration": 1.346002,
     "end_time": "2025-07-13T06:31:00.147208",
     "exception": false,
     "start_time": "2025-07-13T06:30:58.801206",
     "status": "completed"
    },
    "tags": []
   },
   "outputs": [],
   "source": [
    "\n",
    "# Model setup\n",
    "batch_size = 10000\n",
    "layers_classifier = 6\n",
    "nre = NeuralRatioEstimator(in_dim=features.shape[1], layers=layers_classifier).to(device)\n",
    "nre.val_loss_min = float('inf')\n",
    "val_losses = []\n",
    "optimizer = optim.Adam(nre.parameters(), lr=4e-4, weight_decay=1e-9)\n"
   ]
  },
  {
   "cell_type": "code",
   "execution_count": 25,
   "id": "6c81cbc5",
   "metadata": {
    "execution": {
     "iopub.execute_input": "2025-07-13T06:31:00.157708Z",
     "iopub.status.busy": "2025-07-13T06:31:00.157005Z",
     "iopub.status.idle": "2025-07-13T06:31:00.160620Z",
     "shell.execute_reply": "2025-07-13T06:31:00.160117Z"
    },
    "papermill": {
     "duration": 0.00944,
     "end_time": "2025-07-13T06:31:00.161399",
     "exception": false,
     "start_time": "2025-07-13T06:31:00.151959",
     "status": "completed"
    },
    "tags": []
   },
   "outputs": [],
   "source": [
    "\n",
    "# ⚠️ You must define `train_test_inds_cands` and `ind_det` before running\n",
    "det = 0\n",
    "i_test = 0\n",
    "train_test_inds = np.r_[train_test_inds_cands[ind_det][0], train_test_inds_cands[ind_det][-1]]\n",
    "mask_train = (train_test_inds != i_test)\n"
   ]
  },
  {
   "cell_type": "code",
   "execution_count": 26,
   "id": "911d376c",
   "metadata": {
    "execution": {
     "iopub.execute_input": "2025-07-13T06:31:00.171303Z",
     "iopub.status.busy": "2025-07-13T06:31:00.170896Z",
     "iopub.status.idle": "2025-07-13T06:31:00.439534Z",
     "shell.execute_reply": "2025-07-13T06:31:00.439098Z"
    },
    "papermill": {
     "duration": 0.277343,
     "end_time": "2025-07-13T06:31:00.443171",
     "exception": false,
     "start_time": "2025-07-13T06:31:00.165828",
     "status": "completed"
    },
    "tags": []
   },
   "outputs": [],
   "source": [
    "\n",
    "# Split features, labels, weights\n",
    "features_train = features[mask_train]\n",
    "labels_train = labels[mask_train]\n",
    "weights_train = weights[mask_train]\n",
    "n_samples_train = len(features_train)\n"
   ]
  },
  {
   "cell_type": "code",
   "execution_count": 30,
   "id": "735a4ae3",
   "metadata": {
    "execution": {
     "iopub.execute_input": "2025-07-13T06:31:00.453206Z",
     "iopub.status.busy": "2025-07-13T06:31:00.452940Z",
     "iopub.status.idle": "2025-07-13T06:31:10.489869Z",
     "shell.execute_reply": "2025-07-13T06:31:10.489304Z"
    },
    "papermill": {
     "duration": 10.043021,
     "end_time": "2025-07-13T06:31:10.490775",
     "exception": false,
     "start_time": "2025-07-13T06:31:00.447754",
     "status": "completed"
    },
    "tags": []
   },
   "outputs": [
    {
     "name": "stdout",
     "output_type": "stream",
     "text": [
      "Starting training...\n",
      "Epoch 1, train loss: 0.5260, val loss: 0.5374\n",
      "Epoch 21, train loss: 0.5272, val loss: 0.5372\n"
     ]
    },
    {
     "name": "stdout",
     "output_type": "stream",
     "text": [
      "Epoch 41, train loss: 0.5248, val loss: 0.5375\n",
      "Epoch 61, train loss: 0.5235, val loss: 0.5377\n",
      "Epoch 81, train loss: 0.5269, val loss: 0.5382\n",
      "Epoch 101, train loss: 0.5275, val loss: 0.5380\n",
      "Epoch 121, train loss: 0.5272, val loss: 0.5382\n",
      "Epoch 141, train loss: 0.5261, val loss: 0.5382\n",
      "Epoch 161, train loss: 0.5281, val loss: 0.5384\n",
      "Epoch 181, train loss: 0.5250, val loss: 0.5387\n",
      "Epoch 201, train loss: 0.5262, val loss: 0.5389\n",
      "Epoch 221, train loss: 0.5275, val loss: 0.5388\n",
      "Epoch 241, train loss: 0.5259, val loss: 0.5392\n",
      "Epoch 261, train loss: 0.5262, val loss: 0.5392\n",
      "Epoch 281, train loss: 0.5242, val loss: 0.5395\n",
      "Epoch 301, train loss: 0.5258, val loss: 0.5400\n",
      "Epoch 321, train loss: 0.5244, val loss: 0.5401\n",
      "Epoch 341, train loss: 0.5245, val loss: 0.5402\n",
      "Epoch 361, train loss: 0.5259, val loss: 0.5402\n",
      "Epoch 381, train loss: 0.5241, val loss: 0.5404\n",
      "Epoch 401, train loss: 0.5246, val loss: 0.5407\n",
      "Epoch 421, train loss: 0.5222, val loss: 0.5409\n",
      "Epoch 441, train loss: 0.5255, val loss: 0.5410\n",
      "Epoch 461, train loss: 0.5250, val loss: 0.5410\n",
      "Epoch 481, train loss: 0.5254, val loss: 0.5411\n",
      "Epoch 501, train loss: 0.5228, val loss: 0.5415\n",
      "Epoch 521, train loss: 0.5250, val loss: 0.5410\n",
      "Epoch 541, train loss: 0.5272, val loss: 0.5415\n",
      "Epoch 561, train loss: 0.5242, val loss: 0.5420\n",
      "Epoch 581, train loss: 0.5252, val loss: 0.5419\n",
      "Epoch 601, train loss: 0.5252, val loss: 0.5418\n",
      "Epoch 621, train loss: 0.5259, val loss: 0.5422\n",
      "Epoch 641, train loss: 0.5247, val loss: 0.5424\n",
      "Epoch 661, train loss: 0.5253, val loss: 0.5427\n",
      "Epoch 681, train loss: 0.5227, val loss: 0.5426\n",
      "Epoch 701, train loss: 0.5235, val loss: 0.5427\n",
      "Epoch 721, train loss: 0.5246, val loss: 0.5429\n",
      "Epoch 741, train loss: 0.5250, val loss: 0.5431\n",
      "Epoch 761, train loss: 0.5232, val loss: 0.5431\n",
      "Epoch 781, train loss: 0.5248, val loss: 0.5433\n",
      "Epoch 801, train loss: 0.5225, val loss: 0.5434\n",
      "Epoch 821, train loss: 0.5220, val loss: 0.5438\n",
      "Epoch 841, train loss: 0.5218, val loss: 0.5437\n",
      "Epoch 861, train loss: 0.5268, val loss: 0.5440\n",
      "Epoch 881, train loss: 0.5209, val loss: 0.5440\n",
      "Epoch 901, train loss: 0.5230, val loss: 0.5440\n",
      "Epoch 921, train loss: 0.5265, val loss: 0.5439\n",
      "Epoch 941, train loss: 0.5229, val loss: 0.5442\n",
      "Epoch 961, train loss: 0.5242, val loss: 0.5446\n",
      "Epoch 981, train loss: 0.5244, val loss: 0.5449\n",
      "Training completed in 9.2s\n"
     ]
    }
   ],
   "source": [
    "\n",
    "# Training loop\n",
    "print(\"Starting training...\")\n",
    "start_time = time.time()\n",
    "for epoch in range(1000):\n",
    "    nre.train()\n",
    "    ind = torch.randperm(n_samples_train).to(device)\n",
    "\n",
    "    for i in range(0, n_samples_train, batch_size):\n",
    "        # Batch slicing\n",
    "        features_in = features_train[ind][i:i+batch_size]\n",
    "        labels_in = labels_train[ind][i:i+batch_size]\n",
    "        weights_in = weights_train[ind][i:i+batch_size]\n",
    "\n",
    "        optimizer.zero_grad()\n",
    "        loss = nre.loss(features_in, labels_in, weights_in)\n",
    "        loss.backward()\n",
    "        optimizer.step()\n",
    "\n",
    "    # Validation every 20 epochs\n",
    "    if epoch % 20 == 0:\n",
    "        nre.eval()\n",
    "        with torch.no_grad():\n",
    "            val_loss = nre.loss(features[~mask_train], labels[~mask_train], weights[~mask_train]).item()\n",
    "            val_losses.append(val_loss)\n",
    "\n",
    "            # Save best model\n",
    "            if val_loss < nre.val_loss_min:\n",
    "                nre.val_loss_min = val_loss\n",
    "                torch.save(nre.state_dict(), f'NN_classifier_{i_test}_{det}.pt')\n",
    "\n",
    "        print(f\"Epoch {epoch+1}, train loss: {loss.item():.4f}, val loss: {val_loss:.4f}\")\n",
    "\n",
    "print(f\"Training completed in {time.time() - start_time:.1f}s\")\n"
   ]
  },
  {
   "cell_type": "code",
   "execution_count": 31,
   "id": "8cfc2d65",
   "metadata": {
    "execution": {
     "iopub.execute_input": "2025-07-13T06:31:10.503494Z",
     "iopub.status.busy": "2025-07-13T06:31:10.503192Z",
     "iopub.status.idle": "2025-07-13T06:31:10.672531Z",
     "shell.execute_reply": "2025-07-13T06:31:10.672132Z"
    },
    "papermill": {
     "duration": 0.18008,
     "end_time": "2025-07-13T06:31:10.677296",
     "exception": false,
     "start_time": "2025-07-13T06:31:10.497216",
     "status": "completed"
    },
    "tags": []
   },
   "outputs": [
    {
     "data": {
      "image/png": "[encoded data removed]",
      "text/plain": [
       "<Figure size 640x480 with 1 Axes>"
      ]
     },
     "metadata": {},
     "output_type": "display_data"
    }
   ],
   "source": [
    "\n",
    "# Plot validation loss\n",
    "plt.figure()\n",
    "plt.plot(val_losses)\n",
    "plt.xlabel('Epoch / 20'); plt.ylabel('Validation loss')\n",
    "plt.title('Validation Loss vs Epochs')\n",
    "plt.grid()\n"
   ]
  },
  {
   "cell_type": "code",
   "execution_count": 32,
   "id": "a6b8ef63",
   "metadata": {
    "execution": {
     "iopub.execute_input": "2025-07-13T06:31:10.690776Z",
     "iopub.status.busy": "2025-07-13T06:31:10.690459Z",
     "iopub.status.idle": "2025-07-13T06:31:10.705645Z",
     "shell.execute_reply": "2025-07-13T06:31:10.705221Z"
    },
    "papermill": {
     "duration": 0.023464,
     "end_time": "2025-07-13T06:31:10.706433",
     "exception": false,
     "start_time": "2025-07-13T06:31:10.682969",
     "status": "completed"
    },
    "tags": []
   },
   "outputs": [
    {
     "ename": "FileNotFoundError",
     "evalue": "[Errno 2] No such file or directory: '   0_0.pt'",
     "output_type": "error",
     "traceback": [
      "\u001b[31m---------------------------------------------------------------------------\u001b[39m",
      "\u001b[31mFileNotFoundError\u001b[39m                         Traceback (most recent call last)",
      "\u001b[36mCell\u001b[39m\u001b[36m \u001b[39m\u001b[32mIn[32]\u001b[39m\u001b[32m, line 2\u001b[39m\n\u001b[32m      1\u001b[39m \u001b[38;5;66;03m# Reload best model and evaluate\u001b[39;00m\n\u001b[32m----> \u001b[39m\u001b[32m2\u001b[39m nre.load_state_dict(\u001b[43mtorch\u001b[49m\u001b[43m.\u001b[49m\u001b[43mload\u001b[49m\u001b[43m(\u001b[49m\u001b[33;43mf\u001b[39;49m\u001b[33;43m'\u001b[39;49m\u001b[33;43m   \u001b[39;49m\u001b[38;5;132;43;01m{\u001b[39;49;00m\u001b[43mi_test\u001b[49m\u001b[38;5;132;43;01m}\u001b[39;49;00m\u001b[33;43m_\u001b[39;49m\u001b[38;5;132;43;01m{\u001b[39;49;00m\u001b[43mdet\u001b[49m\u001b[38;5;132;43;01m}\u001b[39;49;00m\u001b[33;43m.pt\u001b[39;49m\u001b[33;43m'\u001b[39;49m\u001b[43m)\u001b[49m)\n\u001b[32m      3\u001b[39m nre.eval()\n",
      "\u001b[36mFile \u001b[39m\u001b[32m~/.conda/envs/myenv/lib/python3.13/site-packages/torch/serialization.py:1479\u001b[39m, in \u001b[36mload\u001b[39m\u001b[34m(f, map_location, pickle_module, weights_only, mmap, **pickle_load_args)\u001b[39m\n\u001b[32m   1476\u001b[39m \u001b[38;5;28;01mif\u001b[39;00m \u001b[33m\"\u001b[39m\u001b[33mencoding\u001b[39m\u001b[33m\"\u001b[39m \u001b[38;5;129;01mnot\u001b[39;00m \u001b[38;5;129;01min\u001b[39;00m pickle_load_args.keys():\n\u001b[32m   1477\u001b[39m     pickle_load_args[\u001b[33m\"\u001b[39m\u001b[33mencoding\u001b[39m\u001b[33m\"\u001b[39m] = \u001b[33m\"\u001b[39m\u001b[33mutf-8\u001b[39m\u001b[33m\"\u001b[39m\n\u001b[32m-> \u001b[39m\u001b[32m1479\u001b[39m \u001b[38;5;28;01mwith\u001b[39;00m \u001b[43m_open_file_like\u001b[49m\u001b[43m(\u001b[49m\u001b[43mf\u001b[49m\u001b[43m,\u001b[49m\u001b[43m \u001b[49m\u001b[33;43m\"\u001b[39;49m\u001b[33;43mrb\u001b[39;49m\u001b[33;43m\"\u001b[39;49m\u001b[43m)\u001b[49m \u001b[38;5;28;01mas\u001b[39;00m opened_file:\n\u001b[32m   1480\u001b[39m     \u001b[38;5;28;01mif\u001b[39;00m _is_zipfile(opened_file):\n\u001b[32m   1481\u001b[39m         \u001b[38;5;66;03m# The zipfile reader is going to advance the current file position.\u001b[39;00m\n\u001b[32m   1482\u001b[39m         \u001b[38;5;66;03m# If we want to actually tail call to torch.jit.load, we need to\u001b[39;00m\n\u001b[32m   1483\u001b[39m         \u001b[38;5;66;03m# reset back to the original position.\u001b[39;00m\n\u001b[32m   1484\u001b[39m         orig_position = opened_file.tell()\n",
      "\u001b[36mFile \u001b[39m\u001b[32m~/.conda/envs/myenv/lib/python3.13/site-packages/torch/serialization.py:759\u001b[39m, in \u001b[36m_open_file_like\u001b[39m\u001b[34m(name_or_buffer, mode)\u001b[39m\n\u001b[32m    757\u001b[39m \u001b[38;5;28;01mdef\u001b[39;00m\u001b[38;5;250m \u001b[39m\u001b[34m_open_file_like\u001b[39m(name_or_buffer: FileLike, mode: \u001b[38;5;28mstr\u001b[39m) -> _opener[IO[\u001b[38;5;28mbytes\u001b[39m]]:\n\u001b[32m    758\u001b[39m     \u001b[38;5;28;01mif\u001b[39;00m _is_path(name_or_buffer):\n\u001b[32m--> \u001b[39m\u001b[32m759\u001b[39m         \u001b[38;5;28;01mreturn\u001b[39;00m \u001b[43m_open_file\u001b[49m\u001b[43m(\u001b[49m\u001b[43mname_or_buffer\u001b[49m\u001b[43m,\u001b[49m\u001b[43m \u001b[49m\u001b[43mmode\u001b[49m\u001b[43m)\u001b[49m\n\u001b[32m    760\u001b[39m     \u001b[38;5;28;01melse\u001b[39;00m:\n\u001b[32m    761\u001b[39m         \u001b[38;5;28;01mif\u001b[39;00m \u001b[33m\"\u001b[39m\u001b[33mw\u001b[39m\u001b[33m\"\u001b[39m \u001b[38;5;129;01min\u001b[39;00m mode:\n",
      "\u001b[36mFile \u001b[39m\u001b[32m~/.conda/envs/myenv/lib/python3.13/site-packages/torch/serialization.py:740\u001b[39m, in \u001b[36m_open_file.__init__\u001b[39m\u001b[34m(self, name, mode)\u001b[39m\n\u001b[32m    739\u001b[39m \u001b[38;5;28;01mdef\u001b[39;00m\u001b[38;5;250m \u001b[39m\u001b[34m__init__\u001b[39m(\u001b[38;5;28mself\u001b[39m, name: Union[\u001b[38;5;28mstr\u001b[39m, os.PathLike[\u001b[38;5;28mstr\u001b[39m]], mode: \u001b[38;5;28mstr\u001b[39m) -> \u001b[38;5;28;01mNone\u001b[39;00m:\n\u001b[32m--> \u001b[39m\u001b[32m740\u001b[39m     \u001b[38;5;28msuper\u001b[39m().\u001b[34m__init__\u001b[39m(\u001b[38;5;28;43mopen\u001b[39;49m\u001b[43m(\u001b[49m\u001b[43mname\u001b[49m\u001b[43m,\u001b[49m\u001b[43m \u001b[49m\u001b[43mmode\u001b[49m\u001b[43m)\u001b[49m)\n",
      "\u001b[31mFileNotFoundError\u001b[39m: [Errno 2] No such file or directory: '   0_0.pt'"
     ]
    }
   ],
   "source": [
    "\n",
    "# Reload best model and evaluate\n",
    "nre.load_state_dict(torch.load(f'   {i_test}_{det}.pt'))\n",
    "nre.eval()\n"
   ]
  },
  {
   "cell_type": "code",
   "execution_count": 33,
   "id": "8eb67db8",
   "metadata": {
    "execution": {
     "iopub.execute_input": "2025-07-13T06:31:10.718319Z",
     "iopub.status.busy": "2025-07-13T06:31:10.718060Z",
     "iopub.status.idle": "2025-07-13T06:31:10.726072Z",
     "shell.execute_reply": "2025-07-13T06:31:10.725691Z"
    },
    "papermill": {
     "duration": 0.014985,
     "end_time": "2025-07-13T06:31:10.726941",
     "exception": false,
     "start_time": "2025-07-13T06:31:10.711956",
     "status": "completed"
    },
    "tags": []
   },
   "outputs": [],
   "source": [
    "\n",
    "# Histogram of classifier scores\n",
    "true_mask = labels[~mask_train].cpu().numpy().astype(bool)\n",
    "with torch.no_grad():\n",
    "    logits = nre(features[~mask_train]).squeeze().cpu().numpy()\n",
    "    probs = torch.sigmoid(torch.tensor(logits)).numpy()\n",
    "    log_scores = 2 * np.log(probs)\n"
   ]
  },
  {
   "cell_type": "code",
   "execution_count": 34,
   "id": "0a22bc7d",
   "metadata": {
    "execution": {
     "iopub.execute_input": "2025-07-13T06:31:10.738745Z",
     "iopub.status.busy": "2025-07-13T06:31:10.738481Z",
     "iopub.status.idle": "2025-07-13T06:31:11.126800Z",
     "shell.execute_reply": "2025-07-13T06:31:11.126370Z"
    },
    "papermill": {
     "duration": 0.395221,
     "end_time": "2025-07-13T06:31:11.127614",
     "exception": false,
     "start_time": "2025-07-13T06:31:10.732393",
     "status": "completed"
    },
    "tags": []
   },
   "outputs": [
    {
     "data": {
      "image/png": "[encoded data removed]",
      "text/plain": [
       "<Figure size 500x300 with 1 Axes>"
      ]
     },
     "metadata": {},
     "output_type": "display_data"
    }
   ],
   "source": [
    "\n",
    "# Plot histogram\n",
    "log = True\n",
    "plt.figure(figsize=(5, 3))\n",
    "bins = np.histogram(log_scores, bins=50)[1]\n",
    "plt.hist(log_scores[~true_mask], bins=bins, label='Glitchy', density=True, log=log)\n",
    "plt.hist(log_scores[true_mask], bins=bins, label='Clean', density=True, alpha=0.5, log=log)\n",
    "plt.legend(); plt.title('Classification of trigger from surrounding data')\n",
    "plt.xlabel('2 × log(predicted probability)'); plt.ylabel('Density')\n",
    "plt.tight_layout()\n",
    "plt.show()\n"
   ]
  },
  {
   "cell_type": "markdown",
   "id": "fcdbea3f",
   "metadata": {
    "jp-MarkdownHeadingCollapsed": true,
    "papermill": {
     "duration": 0.005789,
     "end_time": "2025-07-13T06:31:11.139324",
     "exception": false,
     "start_time": "2025-07-13T06:31:11.133535",
     "status": "completed"
    },
    "tags": []
   },
   "source": [
    "## Training deepset network"
   ]
  },
  {
   "cell_type": "code",
   "execution_count": 31,
   "id": "858ea811",
   "metadata": {
    "execution": {
     "iopub.execute_input": "2025-07-13T06:31:11.151334Z",
     "iopub.status.busy": "2025-07-13T06:31:11.151070Z",
     "iopub.status.idle": "2025-07-13T06:31:11.153897Z",
     "shell.execute_reply": "2025-07-13T06:31:11.153479Z"
    },
    "papermill": {
     "duration": 0.009738,
     "end_time": "2025-07-13T06:31:11.154613",
     "exception": false,
     "start_time": "2025-07-13T06:31:11.144875",
     "status": "completed"
    },
    "tags": []
   },
   "outputs": [],
   "source": [
    "import torch\n",
    "import torch.nn as nn\n",
    "import torch.optim as optim\n",
    "import numpy as np\n",
    "import matplotlib.pyplot as plt\n",
    "import time\n"
   ]
  },
  {
   "cell_type": "code",
   "execution_count": 32,
   "id": "473a63d0",
   "metadata": {
    "execution": {
     "iopub.execute_input": "2025-07-13T06:31:11.168870Z",
     "iopub.status.busy": "2025-07-13T06:31:11.168613Z",
     "iopub.status.idle": "2025-07-13T06:31:11.171693Z",
     "shell.execute_reply": "2025-07-13T06:31:11.171330Z"
    },
    "papermill": {
     "duration": 0.015525,
     "end_time": "2025-07-13T06:31:11.175772",
     "exception": false,
     "start_time": "2025-07-13T06:31:11.160247",
     "status": "completed"
    },
    "tags": []
   },
   "outputs": [
    {
     "name": "stdout",
     "output_type": "stream",
     "text": [
      "Using device: NVIDIA A100-PCIE-40GB\n"
     ]
    }
   ],
   "source": [
    "\n",
    "# Device setup\n",
    "device = 'cuda' if torch.cuda.is_available() else 'cpu'\n",
    "print(f'Using device: {torch.cuda.get_device_name(0) if device==\"cuda\" else \"CPU\"}')\n"
   ]
  },
  {
   "cell_type": "code",
   "execution_count": 33,
   "id": "7b836dec",
   "metadata": {
    "execution": {
     "iopub.execute_input": "2025-07-13T06:31:11.188106Z",
     "iopub.status.busy": "2025-07-13T06:31:11.187853Z",
     "iopub.status.idle": "2025-07-13T06:31:11.191577Z",
     "shell.execute_reply": "2025-07-13T06:31:11.191223Z"
    },
    "papermill": {
     "duration": 0.010604,
     "end_time": "2025-07-13T06:31:11.192259",
     "exception": false,
     "start_time": "2025-07-13T06:31:11.181655",
     "status": "completed"
    },
    "tags": []
   },
   "outputs": [],
   "source": [
    "\n",
    "# Reuse from previous code\n",
    "def build_mlp(input_dim, hidden_dim, output_dim, layers, activation=nn.GELU()):\n",
    "    seq = [nn.Linear(input_dim, hidden_dim), activation]\n",
    "    for _ in range(layers):\n",
    "        seq += [nn.Linear(hidden_dim, hidden_dim), activation]\n",
    "    seq += [nn.Linear(hidden_dim, output_dim)]\n",
    "    return nn.Sequential(*seq)\n"
   ]
  },
  {
   "cell_type": "code",
   "execution_count": 34,
   "id": "dc1ec555",
   "metadata": {
    "execution": {
     "iopub.execute_input": "2025-07-13T06:31:11.204433Z",
     "iopub.status.busy": "2025-07-13T06:31:11.204199Z",
     "iopub.status.idle": "2025-07-13T06:31:11.207277Z",
     "shell.execute_reply": "2025-07-13T06:31:11.206934Z"
    },
    "papermill": {
     "duration": 0.012698,
     "end_time": "2025-07-13T06:31:11.210669",
     "exception": false,
     "start_time": "2025-07-13T06:31:11.197971",
     "status": "completed"
    },
    "tags": []
   },
   "outputs": [],
   "source": [
    "\n",
    "# Constants and configuration\n",
    "empty_embedding = nn.Parameter(torch.zeros((1, triglist_dim)).to(device))\n",
    "det_ind = 0  # Change to 1 for L1\n",
    "det = 'H' if det_ind == 0 else 'L'\n"
   ]
  },
  {
   "cell_type": "code",
   "execution_count": 35,
   "id": "461c1399",
   "metadata": {
    "execution": {
     "iopub.execute_input": "2025-07-13T06:31:11.234395Z",
     "iopub.status.busy": "2025-07-13T06:31:11.234147Z",
     "iopub.status.idle": "2025-07-13T06:31:40.322678Z",
     "shell.execute_reply": "2025-07-13T06:31:40.322170Z"
    },
    "papermill": {
     "duration": 29.102109,
     "end_time": "2025-07-13T06:31:40.323773",
     "exception": false,
     "start_time": "2025-07-13T06:31:11.221664",
     "status": "completed"
    },
    "tags": []
   },
   "outputs": [],
   "source": [
    "\n",
    "# Build glitch_dataset for the detector\n",
    "glitch_dataset = (triglist_H[0] + triglist_H[-1]).copy() if det_ind == 0 else (triglist_L[0] + triglist_L[-1]).copy()\n",
    "for i in range(len(glitch_dataset)):\n",
    "    if glitch_dataset[i] is None:\n",
    "        glitch_dataset[i] = empty_embedding\n",
    "    else:\n",
    "        glitch_dataset[i] = torch.FloatTensor(glitch_dataset[i]).to(device)\n"
   ]
  },
  {
   "cell_type": "code",
   "execution_count": 36,
   "id": "b51f9dc6",
   "metadata": {
    "execution": {
     "iopub.execute_input": "2025-07-13T06:31:40.338086Z",
     "iopub.status.busy": "2025-07-13T06:31:40.337799Z",
     "iopub.status.idle": "2025-07-13T06:31:40.360375Z",
     "shell.execute_reply": "2025-07-13T06:31:40.359959Z"
    },
    "papermill": {
     "duration": 0.030228,
     "end_time": "2025-07-13T06:31:40.361288",
     "exception": false,
     "start_time": "2025-07-13T06:31:40.331060",
     "status": "completed"
    },
    "tags": []
   },
   "outputs": [],
   "source": [
    "# Load features, labels, weights, train/test split\n",
    "features, labels, weights, train_test_inds = input_data_ML(det_ind)\n",
    "features = features[:, :4]  # First 4 features\n",
    "features = torch.FloatTensor(features).to(device)\n",
    "labels = torch.FloatTensor(labels).to(device)\n",
    "weights = torch.FloatTensor(weights).to(device)\n",
    "\n",
    "i_test = 0\n",
    "mask_train = (train_test_inds != i_test)\n",
    "features_train = features[mask_train]\n",
    "labels_train = labels[mask_train]\n",
    "weights_train = weights[mask_train]\n",
    "glitches_train = [glitch_dataset[i] for i in np.arange(len(train_test_inds))[mask_train]]\n",
    "glitches_test = [glitch_dataset[i] for i in np.arange(len(train_test_inds))[~mask_train]]\n",
    "\n",
    "n_samples_train = len(features_train)\n"
   ]
  },
  {
   "cell_type": "code",
   "execution_count": 37,
   "id": "e5dfcbff",
   "metadata": {
    "execution": {
     "iopub.execute_input": "2025-07-13T06:31:40.373948Z",
     "iopub.status.busy": "2025-07-13T06:31:40.373684Z",
     "iopub.status.idle": "2025-07-13T06:31:40.378480Z",
     "shell.execute_reply": "2025-07-13T06:31:40.378106Z"
    },
    "papermill": {
     "duration": 0.013628,
     "end_time": "2025-07-13T06:31:40.380820",
     "exception": false,
     "start_time": "2025-07-13T06:31:40.367192",
     "status": "completed"
    },
    "tags": []
   },
   "outputs": [],
   "source": [
    "\n",
    "# Neural Ratio Estimator Definition\n",
    "class NeuralRatioEstimator(nn.Module):\n",
    "    def __init__(self, in_dim=7, layers_classifier=4, layers_deepset=4, dout_deepset=8):\n",
    "        super().__init__()\n",
    "        self.classifier = build_mlp(in_dim, 16, 1, layers_classifier)\n",
    "        self.glitch_deepset = build_mlp(triglist_dim, 16, dout_deepset, layers_deepset)\n",
    "\n",
    "    def forward(self, glitches_arr):\n",
    "        ind_array = [len(g) for g in glitches_arr]\n",
    "        ind_array = torch.IntTensor(np.cumsum(ind_array)).to(device)\n",
    "        ind_array = torch.cat((torch.zeros(1, dtype=torch.int32, device=device), ind_array))\n",
    "        ds_out = self.glitch_deepset(torch.cat(glitches_arr))\n",
    "        ds_sum = [torch.sum(ds_out[ind_array[i]:ind_array[i+1]], dim=0) for i in range(len(glitches_arr))]\n",
    "        return torch.stack(ds_sum)\n",
    "\n",
    "    def loss(self, features, glitches, labels, weights):\n",
    "        ds_out = self(glitches)\n",
    "        logits = self.classifier(torch.cat((features, ds_out), dim=1)).squeeze()\n",
    "        probs = torch.sigmoid(logits)\n",
    "        return nn.BCELoss(reduction='none')(probs, labels) * weights\n"
   ]
  },
  {
   "cell_type": "code",
   "execution_count": 38,
   "id": "f6ccec92",
   "metadata": {
    "execution": {
     "iopub.execute_input": "2025-07-13T06:31:40.393424Z",
     "iopub.status.busy": "2025-07-13T06:31:40.393166Z",
     "iopub.status.idle": "2025-07-13T07:03:08.342875Z",
     "shell.execute_reply": "2025-07-13T07:03:08.342317Z"
    },
    "papermill": {
     "duration": 1887.95692,
     "end_time": "2025-07-13T07:03:08.343670",
     "exception": false,
     "start_time": "2025-07-13T06:31:40.386750",
     "status": "completed"
    },
    "tags": []
   },
   "outputs": [
    {
     "name": "stdout",
     "output_type": "stream",
     "text": [
      "Starting training...\n"
     ]
    },
    {
     "name": "stdout",
     "output_type": "stream",
     "text": [
      "Epoch 1, train loss: 0.5349, val loss: 0.5347\n",
      "Epoch 3, train loss: 0.5351, val loss: 0.5345\n",
      "Epoch 5, train loss: 0.5343, val loss: 0.5340\n",
      "Epoch 7, train loss: 0.5324, val loss: 0.5326\n",
      "Epoch 9, train loss: 0.5312, val loss: 0.5340\n",
      "Epoch 11, train loss: 0.5352, val loss: 0.5345\n",
      "Epoch 13, train loss: 0.5349, val loss: 0.5345\n",
      "Epoch 15, train loss: 0.5360, val loss: 0.5345\n",
      "Epoch 17, train loss: 0.5349, val loss: 0.5345\n",
      "Epoch 19, train loss: 0.5359, val loss: 0.5341\n",
      "Epoch 21, train loss: 0.5345, val loss: 0.5329\n",
      "Epoch 23, train loss: 0.5332, val loss: 0.5321\n"
     ]
    },
    {
     "ename": "KeyboardInterrupt",
     "evalue": "",
     "output_type": "error",
     "traceback": [
      "\u001b[31m---------------------------------------------------------------------------\u001b[39m",
      "\u001b[31mKeyboardInterrupt\u001b[39m                         Traceback (most recent call last)",
      "\u001b[36mCell\u001b[39m\u001b[36m \u001b[39m\u001b[32mIn[38]\u001b[39m\u001b[32m, line 24\u001b[39m\n\u001b[32m     21\u001b[39m weights_in = weights_train[ind][i:i+batch_size]\n\u001b[32m     23\u001b[39m optimizer.zero_grad()\n\u001b[32m---> \u001b[39m\u001b[32m24\u001b[39m loss = \u001b[43mnre\u001b[49m\u001b[43m.\u001b[49m\u001b[43mloss\u001b[49m\u001b[43m(\u001b[49m\u001b[43mfeatures_in\u001b[49m\u001b[43m,\u001b[49m\u001b[43m \u001b[49m\u001b[43mglitches_in\u001b[49m\u001b[43m,\u001b[49m\u001b[43m \u001b[49m\u001b[43mlabels_in\u001b[49m\u001b[43m,\u001b[49m\u001b[43m \u001b[49m\u001b[43mweights_in\u001b[49m\u001b[43m)\u001b[49m.mean()\n\u001b[32m     25\u001b[39m loss.backward()\n\u001b[32m     26\u001b[39m optimizer.step()\n",
      "\u001b[36mCell\u001b[39m\u001b[36m \u001b[39m\u001b[32mIn[37]\u001b[39m\u001b[32m, line 17\u001b[39m, in \u001b[36mNeuralRatioEstimator.loss\u001b[39m\u001b[34m(self, features, glitches, labels, weights)\u001b[39m\n\u001b[32m     16\u001b[39m \u001b[38;5;28;01mdef\u001b[39;00m\u001b[38;5;250m \u001b[39m\u001b[34mloss\u001b[39m(\u001b[38;5;28mself\u001b[39m, features, glitches, labels, weights):\n\u001b[32m---> \u001b[39m\u001b[32m17\u001b[39m     ds_out = \u001b[38;5;28;43mself\u001b[39;49m\u001b[43m(\u001b[49m\u001b[43mglitches\u001b[49m\u001b[43m)\u001b[49m\n\u001b[32m     18\u001b[39m     logits = \u001b[38;5;28mself\u001b[39m.classifier(torch.cat((features, ds_out), dim=\u001b[32m1\u001b[39m)).squeeze()\n\u001b[32m     19\u001b[39m     probs = torch.sigmoid(logits)\n",
      "\u001b[36mFile \u001b[39m\u001b[32m~/.conda/envs/myenv/lib/python3.13/site-packages/torch/nn/modules/module.py:1751\u001b[39m, in \u001b[36mModule._wrapped_call_impl\u001b[39m\u001b[34m(self, *args, **kwargs)\u001b[39m\n\u001b[32m   1749\u001b[39m     \u001b[38;5;28;01mreturn\u001b[39;00m \u001b[38;5;28mself\u001b[39m._compiled_call_impl(*args, **kwargs)  \u001b[38;5;66;03m# type: ignore[misc]\u001b[39;00m\n\u001b[32m   1750\u001b[39m \u001b[38;5;28;01melse\u001b[39;00m:\n\u001b[32m-> \u001b[39m\u001b[32m1751\u001b[39m     \u001b[38;5;28;01mreturn\u001b[39;00m \u001b[38;5;28;43mself\u001b[39;49m\u001b[43m.\u001b[49m\u001b[43m_call_impl\u001b[49m\u001b[43m(\u001b[49m\u001b[43m*\u001b[49m\u001b[43margs\u001b[49m\u001b[43m,\u001b[49m\u001b[43m \u001b[49m\u001b[43m*\u001b[49m\u001b[43m*\u001b[49m\u001b[43mkwargs\u001b[49m\u001b[43m)\u001b[49m\n",
      "\u001b[36mFile \u001b[39m\u001b[32m~/.conda/envs/myenv/lib/python3.13/site-packages/torch/nn/modules/module.py:1762\u001b[39m, in \u001b[36mModule._call_impl\u001b[39m\u001b[34m(self, *args, **kwargs)\u001b[39m\n\u001b[32m   1757\u001b[39m \u001b[38;5;66;03m# If we don't have any hooks, we want to skip the rest of the logic in\u001b[39;00m\n\u001b[32m   1758\u001b[39m \u001b[38;5;66;03m# this function, and just call forward.\u001b[39;00m\n\u001b[32m   1759\u001b[39m \u001b[38;5;28;01mif\u001b[39;00m \u001b[38;5;129;01mnot\u001b[39;00m (\u001b[38;5;28mself\u001b[39m._backward_hooks \u001b[38;5;129;01mor\u001b[39;00m \u001b[38;5;28mself\u001b[39m._backward_pre_hooks \u001b[38;5;129;01mor\u001b[39;00m \u001b[38;5;28mself\u001b[39m._forward_hooks \u001b[38;5;129;01mor\u001b[39;00m \u001b[38;5;28mself\u001b[39m._forward_pre_hooks\n\u001b[32m   1760\u001b[39m         \u001b[38;5;129;01mor\u001b[39;00m _global_backward_pre_hooks \u001b[38;5;129;01mor\u001b[39;00m _global_backward_hooks\n\u001b[32m   1761\u001b[39m         \u001b[38;5;129;01mor\u001b[39;00m _global_forward_hooks \u001b[38;5;129;01mor\u001b[39;00m _global_forward_pre_hooks):\n\u001b[32m-> \u001b[39m\u001b[32m1762\u001b[39m     \u001b[38;5;28;01mreturn\u001b[39;00m \u001b[43mforward_call\u001b[49m\u001b[43m(\u001b[49m\u001b[43m*\u001b[49m\u001b[43margs\u001b[49m\u001b[43m,\u001b[49m\u001b[43m \u001b[49m\u001b[43m*\u001b[49m\u001b[43m*\u001b[49m\u001b[43mkwargs\u001b[49m\u001b[43m)\u001b[49m\n\u001b[32m   1764\u001b[39m result = \u001b[38;5;28;01mNone\u001b[39;00m\n\u001b[32m   1765\u001b[39m called_always_called_hooks = \u001b[38;5;28mset\u001b[39m()\n",
      "\u001b[36mCell\u001b[39m\u001b[36m \u001b[39m\u001b[32mIn[37]\u001b[39m\u001b[32m, line 13\u001b[39m, in \u001b[36mNeuralRatioEstimator.forward\u001b[39m\u001b[34m(self, glitches_arr)\u001b[39m\n\u001b[32m     11\u001b[39m ind_array = torch.cat((torch.zeros(\u001b[32m1\u001b[39m, dtype=torch.int32, device=device), ind_array))\n\u001b[32m     12\u001b[39m ds_out = \u001b[38;5;28mself\u001b[39m.glitch_deepset(torch.cat(glitches_arr))\n\u001b[32m---> \u001b[39m\u001b[32m13\u001b[39m ds_sum = [\u001b[43mtorch\u001b[49m\u001b[43m.\u001b[49m\u001b[43msum\u001b[49m\u001b[43m(\u001b[49m\u001b[43mds_out\u001b[49m\u001b[43m[\u001b[49m\u001b[43mind_array\u001b[49m\u001b[43m[\u001b[49m\u001b[43mi\u001b[49m\u001b[43m]\u001b[49m\u001b[43m:\u001b[49m\u001b[43mind_array\u001b[49m\u001b[43m[\u001b[49m\u001b[43mi\u001b[49m\u001b[43m+\u001b[49m\u001b[32;43m1\u001b[39;49m\u001b[43m]\u001b[49m\u001b[43m]\u001b[49m\u001b[43m,\u001b[49m\u001b[43m \u001b[49m\u001b[43mdim\u001b[49m\u001b[43m=\u001b[49m\u001b[32;43m0\u001b[39;49m\u001b[43m)\u001b[49m \u001b[38;5;28;01mfor\u001b[39;00m i \u001b[38;5;129;01min\u001b[39;00m \u001b[38;5;28mrange\u001b[39m(\u001b[38;5;28mlen\u001b[39m(glitches_arr))]\n\u001b[32m     14\u001b[39m \u001b[38;5;28;01mreturn\u001b[39;00m torch.stack(ds_sum)\n",
      "\u001b[31mKeyboardInterrupt\u001b[39m: "
     ]
    }
   ],
   "source": [
    "# Instantiate model\n",
    "batch_size = 10000\n",
    "nre = NeuralRatioEstimator(in_dim=features.shape[1] + 8, layers_classifier=6, layers_deepset=4, dout_deepset=8).to(device)\n",
    "nre.val_loss_min = 1e10\n",
    "optimizer = optim.Adam(nre.parameters(), lr=1e-2)\n",
    "val_losses = []\n",
    "epochs = 100\n",
    "\n",
    "# Train loop\n",
    "print(\"Starting training...\")\n",
    "start_time = time.time()\n",
    "for epoch in range(epochs):\n",
    "    ind = torch.randperm(n_samples_train).to(device)\n",
    "    glitches_perm = [glitches_train[i] for i in ind]\n",
    "    nre.train()\n",
    "\n",
    "    for i in range(0, len(ind), batch_size):\n",
    "        features_in = features_train[ind][i:i+batch_size]\n",
    "        glitches_in = glitches_perm[i:i+batch_size]\n",
    "        labels_in = labels_train[ind][i:i+batch_size]\n",
    "        weights_in = weights_train[ind][i:i+batch_size]\n",
    "\n",
    "        optimizer.zero_grad()\n",
    "        loss = nre.loss(features_in, glitches_in, labels_in, weights_in).mean()\n",
    "        loss.backward()\n",
    "        optimizer.step()\n",
    "\n",
    "    if epoch % 2 == 0:\n",
    "        nre.eval()\n",
    "        with torch.no_grad():\n",
    "            val_loss = nre.loss(\n",
    "                features[~mask_train],\n",
    "                glitches_test,\n",
    "                labels[~mask_train],\n",
    "                weights[~mask_train]\n",
    "            ).mean().item()\n",
    "            val_losses.append(val_loss)\n",
    "\n",
    "            if val_loss < nre.val_loss_min:\n",
    "                nre.val_loss_min = val_loss\n",
    "                torch.save(nre.state_dict(), f'NN_classifier_{det}.pt')\n",
    "\n",
    "        print(f\"Epoch {epoch+1}, train loss: {loss.item():.4f}, val loss: {val_loss:.4f}\")\n",
    "print(f\"Training completed in {time.time() - start_time:.1f}s\")\n"
   ]
  },
  {
   "cell_type": "code",
   "execution_count": null,
   "id": "e3ed1c06",
   "metadata": {
    "execution": {
     "iopub.execute_input": "2025-07-13T07:03:08.360762Z",
     "iopub.status.busy": "2025-07-13T07:03:08.360458Z",
     "iopub.status.idle": "2025-07-13T07:03:08.505738Z",
     "shell.execute_reply": "2025-07-13T07:03:08.505368Z"
    },
    "papermill": {
     "duration": 0.154228,
     "end_time": "2025-07-13T07:03:08.506532",
     "exception": false,
     "start_time": "2025-07-13T07:03:08.352304",
     "status": "completed"
    },
    "tags": []
   },
   "outputs": [
    {
     "data": {
      "image/png": "[encoded data removed]",
      "text/plain": [
       "<Figure size 640x480 with 1 Axes>"
      ]
     },
     "metadata": {},
     "output_type": "display_data"
    }
   ],
   "source": [
    "# Plot validation loss curve\n",
    "plt.figure()\n",
    "plt.plot(val_losses)\n",
    "plt.xlabel('Epoch / 2'); plt.ylabel('Validation loss'); plt.title('Validation Loss vs Epochs')\n",
    "plt.grid()\n"
   ]
  },
  {
   "cell_type": "code",
   "execution_count": null,
   "id": "500279c5",
   "metadata": {
    "execution": {
     "iopub.execute_input": "2025-07-13T07:03:08.523231Z",
     "iopub.status.busy": "2025-07-13T07:03:08.522982Z",
     "iopub.status.idle": "2025-07-13T07:03:12.727688Z",
     "shell.execute_reply": "2025-07-13T07:03:12.727241Z"
    },
    "papermill": {
     "duration": 4.213883,
     "end_time": "2025-07-13T07:03:12.728629",
     "exception": false,
     "start_time": "2025-07-13T07:03:08.514746",
     "status": "completed"
    },
    "tags": []
   },
   "outputs": [],
   "source": [
    "# Reload best model and evaluate\n",
    "nre.load_state_dict(torch.load(f'NN_classifier_{det}.pt'))\n",
    "nre.eval()\n",
    "with torch.no_grad():\n",
    "    ds_val = nre(glitches_test)\n",
    "    logits = nre.classifier(torch.cat((features[~mask_train], ds_val), dim=1)).squeeze()\n",
    "    true_mask = labels[~mask_train].bool()\n"
   ]
  },
  {
   "cell_type": "code",
   "execution_count": null,
   "id": "2114ada3",
   "metadata": {
    "execution": {
     "iopub.execute_input": "2025-07-13T07:03:12.746430Z",
     "iopub.status.busy": "2025-07-13T07:03:12.746001Z",
     "iopub.status.idle": "2025-07-13T07:03:13.581781Z",
     "shell.execute_reply": "2025-07-13T07:03:13.581372Z"
    },
    "papermill": {
     "duration": 0.844987,
     "end_time": "2025-07-13T07:03:13.582609",
     "exception": false,
     "start_time": "2025-07-13T07:03:12.737622",
     "status": "completed"
    },
    "tags": []
   },
   "outputs": [
    {
     "data": {
      "image/png": "[encoded data removed]",
      "text/plain": [
       "<Figure size 600x300 with 1 Axes>"
      ]
     },
     "metadata": {},
     "output_type": "display_data"
    }
   ],
   "source": [
    "\n",
    "# Plot histogram of logits\n",
    "log = True\n",
    "plt.figure(figsize=(6, 3))\n",
    "bins = np.histogram(logits.cpu().numpy(), bins=100)[1]\n",
    "plt.hist(logits[~true_mask].cpu().numpy(), bins=bins, label='Glitchy', density=True, log=log)\n",
    "plt.hist(logits[true_mask].cpu().numpy(), bins=bins, label='Clean', density=True, alpha=0.5, log=log)\n",
    "plt.legend(); plt.title(f'{det}-detector NRE classification')\n",
    "plt.xlabel('Logit (pre-sigmoid output)'); plt.ylabel('Density'); plt.grid(True)\n",
    "plt.tight_layout()\n",
    "plt.show()\n"
   ]
  }
 ],
 "metadata": {
  "kernelspec": {
   "display_name": "myenv",
   "language": "python",
   "name": "python3"
  },
  "language_info": {
   "codemirror_mode": {
    "name": "ipython",
    "version": 3
   },
   "file_extension": ".py",
   "mimetype": "text/x-python",
   "name": "python",
   "nbconvert_exporter": "python",
   "pygments_lexer": "ipython3",
   "version": "3.13.4"
  },
  "papermill": {
   "default_parameters": {},
   "duration": 1984.913339,
   "end_time": "2025-07-13T07:03:16.228190",
   "environment_variables": {},
   "exception": null,
   "input_path": "Glitches_ML.ipynb",
   "output_path": "Glitches_ML.ipynb",
   "parameters": {},
   "start_time": "2025-07-13T06:30:11.314851",
   "version": "2.6.0"
  }
 },
 "nbformat": 4,
 "nbformat_minor": 5
}
